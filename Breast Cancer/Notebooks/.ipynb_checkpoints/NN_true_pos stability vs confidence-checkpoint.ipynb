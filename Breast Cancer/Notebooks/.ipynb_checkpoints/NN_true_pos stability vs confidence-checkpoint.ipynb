{
 "cells": [
  {
   "cell_type": "code",
   "execution_count": 1,
   "metadata": {},
   "outputs": [
    {
     "name": "stderr",
     "output_type": "stream",
     "text": [
      "C:\\ProgramData\\Anaconda3\\lib\\site-packages\\dask\\dataframe\\utils.py:14: FutureWarning: pandas.util.testing is deprecated. Use the functions in the public API at pandas.testing instead.\n",
      "  import pandas.util.testing as tm\n"
     ]
    }
   ],
   "source": [
    "import pandas as pd\n",
    "import numpy as np\n",
    "\n",
    "import xgboost as xgb\n",
    "from xgboost import XGBClassifier\n",
    "\n",
    "from sklearn.metrics import accuracy_score\n",
    "from tensorflow.keras.models import model_from_json\n",
    "\n",
    "import os\n",
    "import joblib\n",
    "import pickle\n",
    "import json\n",
    "\n",
    "import time\n",
    "import warnings\n",
    "warnings.filterwarnings(\"ignore\")\n",
    "\n",
    "import matplotlib.pyplot as plt\n",
    "\n",
    "from matplotlib.pyplot import figure\n",
    "import matplotlib.image as mpimg\n",
    "\n",
    "import stability as st\n",
    "\n",
    "import statistics\n",
    "import scipy as scp\n",
    "import math\n",
    "\n",
    "import lime\n",
    "from lime import lime_tabular\n",
    "\n",
    "import shap"
   ]
  },
  {
   "cell_type": "code",
   "execution_count": 2,
   "metadata": {},
   "outputs": [
    {
     "ename": "FileNotFoundError",
     "evalue": "[Errno 2] No such file or directory: 'C:/Users/velmurug/Documents/Stability Experiments/Breast Cancer/models/model_h5_N12_DUO.json'",
     "output_type": "error",
     "traceback": [
      "\u001b[1;31m---------------------------------------------------------------------------\u001b[0m",
      "\u001b[1;31mFileNotFoundError\u001b[0m                         Traceback (most recent call last)",
      "\u001b[1;32m<ipython-input-2-8a5b3b25a412>\u001b[0m in \u001b[0;36m<module>\u001b[1;34m\u001b[0m\n\u001b[0;32m      5\u001b[0m \u001b[0mdataset_path\u001b[0m \u001b[1;33m=\u001b[0m \u001b[1;34m'datasets/'\u001b[0m\u001b[1;33m\u001b[0m\u001b[1;33m\u001b[0m\u001b[0m\n\u001b[0;32m      6\u001b[0m \u001b[1;33m\u001b[0m\u001b[0m\n\u001b[1;32m----> 7\u001b[1;33m \u001b[0mjson_file\u001b[0m \u001b[1;33m=\u001b[0m \u001b[0mopen\u001b[0m\u001b[1;33m(\u001b[0m\u001b[0mmodel_filename\u001b[0m\u001b[1;33m,\u001b[0m \u001b[1;34m'r'\u001b[0m\u001b[1;33m)\u001b[0m\u001b[1;33m\u001b[0m\u001b[1;33m\u001b[0m\u001b[0m\n\u001b[0m\u001b[0;32m      8\u001b[0m \u001b[0mloaded_model_json\u001b[0m \u001b[1;33m=\u001b[0m \u001b[0mjson_file\u001b[0m\u001b[1;33m.\u001b[0m\u001b[0mread\u001b[0m\u001b[1;33m(\u001b[0m\u001b[1;33m)\u001b[0m\u001b[1;33m\u001b[0m\u001b[1;33m\u001b[0m\u001b[0m\n\u001b[0;32m      9\u001b[0m \u001b[0mjson_file\u001b[0m\u001b[1;33m.\u001b[0m\u001b[0mclose\u001b[0m\u001b[1;33m(\u001b[0m\u001b[1;33m)\u001b[0m\u001b[1;33m\u001b[0m\u001b[1;33m\u001b[0m\u001b[0m\n",
      "\u001b[1;31mFileNotFoundError\u001b[0m: [Errno 2] No such file or directory: 'C:/Users/velmurug/Documents/Stability Experiments/Breast Cancer/models/model_h5_N12_DUO.json'"
     ]
    }
   ],
   "source": [
    "#PATH = \"C:/Users/mythr/Documents/GitHub/Stability-Experiments/Diabetes/\"\n",
    "PATH = \"C:/Users/velmurug/Documents/Stability Experiments/Breast Cancer/\"\n",
    "model_filename = os.path.join(PATH, \"models/model_h5_N12_DUO.json\")\n",
    "weights_filename = os.path.join(PATH, \"models/model_h5_N12_DUO.h5\")\n",
    "dataset_path = 'datasets/'\n",
    "\n",
    "json_file = open(model_filename, 'r')\n",
    "loaded_model_json = json_file.read()\n",
    "json_file.close()\n",
    "model = model_from_json(loaded_model_json)\n",
    "model.load_weights(weights_filename)\n",
    "print(\"Loaded model from disk\")"
   ]
  },
  {
   "cell_type": "code",
   "execution_count": null,
   "metadata": {},
   "outputs": [],
   "source": [
    "tp_file = os.path.join(PATH, \"datasets/dicts/NN_true_pos.pkl\")\n",
    "with open (tp_file, 'rb') as f:\n",
    "    results = pickle.load(f)\n",
    "    \n",
    "f.close()"
   ]
  },
  {
   "cell_type": "code",
   "execution_count": null,
   "metadata": {},
   "outputs": [],
   "source": [
    "X_train = pd.read_csv(PATH + \"datasets/breast_cancer_Xtrain.csv\", index_col=False).values\n",
    "X_test = pd.read_csv(PATH + \"datasets/breast_cancer_Xtest.csv\", index_col=False).values\n",
    "X_validation =pd.read_csv(PATH + \"datasets/breast_cancer_Xvalidation.csv\",index_col=False).values\n",
    "y_train = pd.read_csv(PATH + \"datasets/breast_cancer_Ytrain.csv\",index_col=False).values\n",
    "y_test =pd.read_csv(PATH + \"datasets/breast_cancer_Ytest.csv\", index_col=False).values\n",
    "y_validation = pd.read_csv(PATH + \"datasets/breast_cancer_Yvalidation.csv\", index_col=False).values\n",
    "\n",
    "original_data = pd.read_csv(PATH + \"datasets/breast_cancer.csv\")\n",
    "original_data = original_data.dropna(axis = 'columns')\n",
    "original_data = original_data.drop(['id'], axis = 1)\n",
    "feature_names = original_data.drop([\"diagnosis\"], axis = 1).columns"
   ]
  },
  {
   "cell_type": "code",
   "execution_count": null,
   "metadata": {},
   "outputs": [],
   "source": [
    "predictions = model.predict(X_test)"
   ]
  },
  {
   "cell_type": "code",
   "execution_count": null,
   "metadata": {},
   "outputs": [],
   "source": [
    "MAX_FEAT = 10\n",
    "\n",
    "start_time = time.time()\n",
    "\n",
    "# LIME has one explainer for all the models\n",
    "explainer = lime_tabular.LimeTabularExplainer(X_train, feature_names= feature_names, \n",
    "                                                  class_names=[\"Benign\", \"Malignant\"], verbose=False, mode='classification')\n",
    "\n",
    "elapsed = time.time() - start_time\n",
    "\n",
    "print (\"Time taken to create explainer:\", round(elapsed, 2), \"seconds\")"
   ]
  },
  {
   "cell_type": "code",
   "execution_count": null,
   "metadata": {
    "scrolled": true
   },
   "outputs": [],
   "source": [
    "stability_scores = []\n",
    "probas = []\n",
    "instances = []\n",
    "\n",
    "feat_list = list(feature_names)\n",
    "\n",
    "for instance in results:\n",
    "    print (\"Running instance\", results.index(instance))\n",
    "    \n",
    "    feat_pres = []\n",
    "    instances.append(intance['index'])\n",
    "\n",
    "    print(\"INDEX = %d\" %instance['index'])\n",
    "    patients_feat = np.array(instance['scaled_vector'])\n",
    "    prediction = instance['predictions']\n",
    "    probas.append(instance['prediction_probability'][1])\n",
    "    \n",
    "    start_time = time.time()\n",
    "    # explain instance\n",
    "    \n",
    "    for iteration in range(10):\n",
    "        print(\"Run\", iteration)\n",
    "        lime_exp = explainer.explain_instance(patients_feat, model.predict_proba, num_features = 30)\n",
    "        \n",
    "        #For stability by index\n",
    "        presence_list = [0]*len(feat_list)\n",
    "    \n",
    "        for each in feat_list:\n",
    "            list_idx = feat_list.index(each)\n",
    "            #print (\"Feature\", list_idx)\n",
    "            for explanation in lime_exp.as_list(prediction):\n",
    "                if each in explanation[0]:\n",
    "                    if lime_exp.as_list(prediction).index(explanation) < MAX_FEAT:\n",
    "                        presence_list[list_idx] = 1\n",
    "                        \n",
    "        feat_pres.append(presence_list)\n",
    "        \n",
    "        #method 1 - Nogueira, Sechidis, Brown.\n",
    "    stability = st.getStability(feat_pres[:10])\n",
    "    print (\"Stability:\", round(stability,2))\n",
    "    stability_scores.append(stability)\n",
    " \n",
    "    print(\"\\n--------------------------------------------------------------------------------------------\\n\")"
   ]
  },
  {
   "cell_type": "markdown",
   "metadata": {},
   "source": [
    "# SHAP"
   ]
  },
  {
   "cell_type": "code",
   "execution_count": null,
   "metadata": {},
   "outputs": [],
   "source": [
    "X_train_frame = pd.DataFrame(data = X_train, columns = feature_names)\n",
    "X_test_frame = pd.DataFrame(data = X_test, columns = feature_names)\n",
    "\n",
    "data_sample = shap.kmeans(X_train_frame, 100)\n",
    "shap_explainer = shap.KernelExplainer(model.predict, data_sample)#, link = 'identity')\n",
    "\n",
    "shap.initjs()"
   ]
  },
  {
   "cell_type": "code",
   "execution_count": null,
   "metadata": {},
   "outputs": [],
   "source": [
    "    def create_samples(shap_explainer, iterations, row, features, top = 10):\n",
    "        #print(features)\n",
    "        length = len(features)\n",
    "        #print (list(range(length)))\n",
    "        exp = []\n",
    "        rel_exp = []\n",
    "\n",
    "        for j in range(iterations):\n",
    "            #print(X_test_frame.loc[row])\n",
    "\n",
    "            if type(shap_explainer) == shap.KernelExplainer:\n",
    "                shap_values = shap_explainer.shap_values(row)\n",
    "\n",
    "                importances = []\n",
    "\n",
    "                for i in range(length):\n",
    "                    feat = features[i]\n",
    "                    shap_val = shap_values[1][i]\n",
    "                    abs_val = abs(shap_values[1][i])\n",
    "                    entry = (feat, shap_val, abs_val)\n",
    "                    importances.append(entry)\n",
    "                    #print(entry)\n",
    "            else:\n",
    "                #print(row)\n",
    "                shap_values = shap_explainer.shap_values(row)\n",
    "                #print(shap_values)\n",
    "\n",
    "                importances = []\n",
    "\n",
    "                for i in list(range(length)):\n",
    "                    #print(i)\n",
    "                    feat = features[i]\n",
    "                    shap_val = shap_values[0][0][i]\n",
    "                    abs_val = abs(shap_values[0][0][i])\n",
    "                    entry = (feat, shap_val, abs_val)\n",
    "                    importances.append(entry)\n",
    "                    #print(entry)\n",
    "\n",
    "            importances.sort(key=lambda tup: tup[2], reverse = True)\n",
    "\n",
    "            exp.append(importances)\n",
    "\n",
    "            rel_feat = []\n",
    "\n",
    "            for i in range(top):\n",
    "                feat = importances[i]\n",
    "                if feat[2] > 0:\n",
    "                    rel_feat.append(feat)\n",
    "\n",
    "            rel_exp.append(rel_feat)\n",
    "\n",
    "        return exp, rel_exp"
   ]
  },
  {
   "cell_type": "code",
   "execution_count": null,
   "metadata": {},
   "outputs": [],
   "source": [
    "shap_stability_scores = []\n",
    "probas = []\n",
    "\n",
    "for instance in results:\n",
    "    \n",
    "    print(\"INDEX = %d\" %instance['index'])\n",
    "    patients_feat = pd.Series(instance['scaled_vector'])\n",
    "    prediction = instance['predictions']\n",
    "    probas.append(instance['prediction_probability'][1])\n",
    "    \n",
    "    loc = results.index(instance)\n",
    "    \n",
    "    exp, rel_exp = create_samples(10, loc, feature_names, top = 5)\n",
    "    \n",
    "    #print(rel_exp)\n",
    "    \n",
    "    feat_pres = []\n",
    "    \n",
    "    for iteration in rel_exp:\n",
    "        print(\"Iteration\", rel_exp.index(iteration))\n",
    "        #print(iteration)\n",
    "\n",
    "        #Stability by index\n",
    "        presence_list = [0]*len(feat_list)\n",
    "        \n",
    "        for each in feat_list:\n",
    "            list_idx = feat_list.index(each)\n",
    "            #print (\"Feature\", list_idx)\n",
    "            for explanation in iteration:\n",
    "                if each in explanation[0]:\n",
    "                    #by index\n",
    "                    presence_list[list_idx] = 1\n",
    "                    \n",
    "        feat_pres.append(presence_list)\n",
    "        \n",
    "    stability = st.getStability(feat_pres)\n",
    "    print (\"Stability:\", round(stability,2))\n",
    "    shap_stability_scores.append(stability)"
   ]
  },
  {
   "cell_type": "code",
   "execution_count": null,
   "metadata": {},
   "outputs": [],
   "source": [
    "plt.plot(probas, stability_scores, 'bo', label = 'LIME')\n",
    "plt.plot(probas, shap_stability_scores, 'ro', label = 'SHAP')\n",
    "plt.show()"
   ]
  },
  {
   "cell_type": "code",
   "execution_count": null,
   "metadata": {},
   "outputs": [],
   "source": [
    "deep_explainer = shap.DeepExplainer(model, X_train)"
   ]
  },
  {
   "cell_type": "code",
   "execution_count": null,
   "metadata": {},
   "outputs": [],
   "source": [
    "deep_stability_scores = []\n",
    "probas = []\n",
    "feat_list = list(feature_names)\n",
    "\n",
    "for instance in results:\n",
    "    \n",
    "    print(\"INDEX = %d\" %instance['index'])\n",
    "    patients_feat = np.array(instance['scaled_vector'])\n",
    "    prediction = instance['predictions']\n",
    "    probas.append(instance['prediction_probability'][1])\n",
    "    \n",
    "    loc = results.index(instance)\n",
    "    \n",
    "    exp, rel_exp = create_samples(deep_explainer, 10, patients_feat.reshape(-1,30), feat_list, top = MAX_FEAT)\n",
    "    \n",
    "    #print(rel_exp)\n",
    "    \n",
    "    feat_pres = []\n",
    "    \n",
    "    for iteration in rel_exp:\n",
    "        print(\"Iteration\", rel_exp.index(iteration))\n",
    "        #print(iteration)\n",
    "\n",
    "        #Stability by index\n",
    "        presence_list = [0]*len(feat_list)\n",
    "        \n",
    "        for each in feat_list:\n",
    "            list_idx = feat_list.index(each)\n",
    "            #print (\"Feature\", list_idx)\n",
    "            for explanation in iteration:\n",
    "                if each in explanation[0]:\n",
    "                    #by index\n",
    "                    presence_list[list_idx] = 1\n",
    "                    \n",
    "        feat_pres.append(presence_list)\n",
    "        \n",
    "    stability = st.getStability(feat_pres)\n",
    "    print (\"Stability:\", round(stability,2))\n",
    "    deep_stability_scores.append(stability)"
   ]
  },
  {
   "cell_type": "code",
   "execution_count": null,
   "metadata": {},
   "outputs": [],
   "source": [
    "plt.plot(instances, stability_scores, 'bo', label = 'LIME')\n",
    "plt.plot(instances, shap_stability_scores, 'ro', label = 'Kernel')\n",
    "plt.plot(instances, deep_stability_scores, 'go', label = 'Deep')\n",
    "plt.plot(instances, probas, 'b-')\n",
    "plt.show()"
   ]
  },
  {
   "cell_type": "code",
   "execution_count": null,
   "metadata": {},
   "outputs": [],
   "source": []
  }
 ],
 "metadata": {
  "kernelspec": {
   "display_name": "Python 3",
   "language": "python",
   "name": "python3"
  },
  "language_info": {
   "codemirror_mode": {
    "name": "ipython",
    "version": 3
   },
   "file_extension": ".py",
   "mimetype": "text/x-python",
   "name": "python",
   "nbconvert_exporter": "python",
   "pygments_lexer": "ipython3",
   "version": "3.7.4"
  }
 },
 "nbformat": 4,
 "nbformat_minor": 4
}
