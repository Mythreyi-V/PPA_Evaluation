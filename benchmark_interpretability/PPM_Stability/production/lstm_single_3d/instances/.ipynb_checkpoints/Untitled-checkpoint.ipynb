{
 "cells": [
  {
   "cell_type": "code",
   "execution_count": 10,
   "metadata": {},
   "outputs": [],
   "source": [
    "#from google.colab import drive\n",
    "#drive.mount('/content/drive')\n",
    "import sys\n",
    "import os\n",
    "import pickle\n",
    "#PATH = '/content/drive/My Drive/PPM_Stability/'\n",
    "PATH = \"C:/Users/velmurug/Documents/Stability Experiments/benchmark_interpretability/PPM_Stability/\"\n",
    "#PATH = \"C:/Users/Mythreyi/Documents/GitHub/Stability-Experiments/benchmark_interpretability/PPM_Stability/\"\n",
    "sys.path.append(PATH)"
   ]
  },
  {
   "cell_type": "code",
   "execution_count": 11,
   "metadata": {},
   "outputs": [],
   "source": [
    "dataset_ref = \"bpic2012\"\n",
    "params_dir = PATH + \"params\"\n",
    "results_dir = \"results\"\n",
    "bucket_method = \"single\"\n",
    "cls_encoding = \"3d\"\n",
    "cls_method = \"lstm\"\n",
    "\n",
    "bucketID = \"all\"\n",
    "\n",
    "gap = 1\n",
    "n_iter = 1\n",
    "\n",
    "method_name = \"%s_%s\"%(bucket_method, cls_encoding)"
   ]
  },
  {
   "cell_type": "code",
   "execution_count": 15,
   "metadata": {},
   "outputs": [
    {
     "name": "stdout",
     "output_type": "stream",
     "text": [
      "5385\n",
      "13095\n",
      "3876\n",
      "8281\n",
      "Accuracy: 0.6031922185592584\n"
     ]
    }
   ],
   "source": [
    " #import previous results from predictions\n",
    "tn_path = os.path.join(PATH, \"%s/%s_%s/instances/true_neg_bucket_%s_.pickle\" % (dataset_ref, cls_method, method_name, bucketID))\n",
    "tp_path = os.path.join(PATH, \"%s/%s_%s/instances/true_pos_bucket_%s_.pickle\" % (dataset_ref, cls_method, method_name, bucketID))\n",
    "fn_path = os.path.join(PATH, \"%s/%s_%s/instances/false_neg_bucket_%s_.pickle\" % (dataset_ref, cls_method, method_name, bucketID))\n",
    "fp_path = os.path.join(PATH, \"%s/%s_%s/instances/false_pos_bucket_%s_.pickle\" % (dataset_ref, cls_method, method_name, bucketID))\n",
    "\n",
    "\n",
    "with open (tn_path, 'rb') as f:\n",
    "    tn_list = pickle.load(f)\n",
    "with open (tp_path, 'rb') as f:\n",
    "    tp_list = pickle.load(f)\n",
    "with open (fn_path, 'rb') as f:\n",
    "    fn_list = pickle.load(f)\n",
    "with open (fp_path, 'rb') as f:\n",
    "    fp_list = pickle.load(f)\n",
    "    \n",
    "print(len(tn_list))\n",
    "print(len(tp_list))\n",
    "print(len(fn_list))\n",
    "print(len(fp_list))\n",
    "\n",
    "acc = (len(tn_list)+len(tp_list))/(len(tn_list)+len(tp_list)+len(fn_list)+len(fp_list))\n",
    "\n",
    "print(\"Accuracy:\", acc)"
   ]
  },
  {
   "cell_type": "code",
   "execution_count": 16,
   "metadata": {},
   "outputs": [
    {
     "name": "stdout",
     "output_type": "stream",
     "text": [
      "7217\n",
      "10364\n",
      "6607\n",
      "6449\n",
      "Accuracy: 0.573848614420472\n"
     ]
    }
   ],
   "source": [
    " #import previous results from predictions\n",
    "tn_path = os.path.join(PATH, \"%s/%s_%s/instances/true_neg_bucket_%s_new.pickle\" % (dataset_ref, cls_method, method_name, bucketID))\n",
    "tp_path = os.path.join(PATH, \"%s/%s_%s/instances/true_pos_bucket_%s_new.pickle\" % (dataset_ref, cls_method, method_name, bucketID))\n",
    "fn_path = os.path.join(PATH, \"%s/%s_%s/instances/false_neg_bucket_%s_new.pickle\" % (dataset_ref, cls_method, method_name, bucketID))\n",
    "fp_path = os.path.join(PATH, \"%s/%s_%s/instances/false_pos_bucket_%s_new.pickle\" % (dataset_ref, cls_method, method_name, bucketID))\n",
    "\n",
    "\n",
    "with open (tn_path, 'rb') as f:\n",
    "    tn_list = pickle.load(f)\n",
    "with open (tp_path, 'rb') as f:\n",
    "    tp_list = pickle.load(f)\n",
    "with open (fn_path, 'rb') as f:\n",
    "    fn_list = pickle.load(f)\n",
    "with open (fp_path, 'rb') as f:\n",
    "    fp_list = pickle.load(f)\n",
    "    \n",
    "print(len(tn_list))\n",
    "print(len(tp_list))\n",
    "print(len(fn_list))\n",
    "print(len(fp_list))\n",
    "\n",
    "acc = (len(tn_list)+len(tp_list))/(len(tn_list)+len(tp_list)+len(fn_list)+len(fp_list))\n",
    "\n",
    "print(\"Accuracy:\", acc)"
   ]
  },
  {
   "cell_type": "code",
   "execution_count": 17,
   "metadata": {},
   "outputs": [
    {
     "name": "stdout",
     "output_type": "stream",
     "text": [
      "20700\n",
      "34818\n",
      "16095\n",
      "20298\n",
      "Accuracy: 0.6040408656200019\n"
     ]
    }
   ],
   "source": [
    " #import previous results from predictions\n",
    "tn_path = os.path.join(PATH, \"%s/%s_%s/instances/true_neg_bucket_%s_backup.pickle\" % (dataset_ref, cls_method, method_name, bucketID))\n",
    "tp_path = os.path.join(PATH, \"%s/%s_%s/instances/true_pos_bucket_%s_backup.pickle\" % (dataset_ref, cls_method, method_name, bucketID))\n",
    "fn_path = os.path.join(PATH, \"%s/%s_%s/instances/false_neg_bucket_%s_backup.pickle\" % (dataset_ref, cls_method, method_name, bucketID))\n",
    "fp_path = os.path.join(PATH, \"%s/%s_%s/instances/false_pos_bucket_%s_backup.pickle\" % (dataset_ref, cls_method, method_name, bucketID))\n",
    "\n",
    "\n",
    "with open (tn_path, 'rb') as f:\n",
    "    tn_list = pickle.load(f)\n",
    "with open (tp_path, 'rb') as f:\n",
    "    tp_list = pickle.load(f)\n",
    "with open (fn_path, 'rb') as f:\n",
    "    fn_list = pickle.load(f)\n",
    "with open (fp_path, 'rb') as f:\n",
    "    fp_list = pickle.load(f)\n",
    "    \n",
    "print(len(tn_list))\n",
    "print(len(tp_list))\n",
    "print(len(fn_list))\n",
    "print(len(fp_list))\n",
    "\n",
    "acc = (len(tn_list)+len(tp_list))/(len(tn_list)+len(tp_list)+len(fn_list)+len(fp_list))\n",
    "\n",
    "print(\"Accuracy:\", acc)"
   ]
  }
 ],
 "metadata": {
  "kernelspec": {
   "display_name": "Python 3",
   "language": "python",
   "name": "python3"
  },
  "language_info": {
   "codemirror_mode": {
    "name": "ipython",
    "version": 3
   },
   "file_extension": ".py",
   "mimetype": "text/x-python",
   "name": "python",
   "nbconvert_exporter": "python",
   "pygments_lexer": "ipython3",
   "version": "3.8.3"
  }
 },
 "nbformat": 4,
 "nbformat_minor": 4
}
