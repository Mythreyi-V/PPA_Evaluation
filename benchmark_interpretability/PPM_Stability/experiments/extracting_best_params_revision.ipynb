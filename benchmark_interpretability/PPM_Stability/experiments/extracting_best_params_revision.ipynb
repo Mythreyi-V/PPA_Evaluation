{
 "cells": [
  {
   "cell_type": "code",
   "execution_count": 7,
   "metadata": {
    "collapsed": true
   },
   "outputs": [],
   "source": [
    "import pandas as pd\n",
    "import os\n",
    "import pickle"
   ]
  },
  {
   "cell_type": "code",
   "execution_count": 2,
   "metadata": {
    "collapsed": true
   },
   "outputs": [],
   "source": [
    "datasets = [\"production\", \"insurance\", \"sepsis_cases\", \"bpic2011\", \"bpic2015\",\n",
    "            \"bpic2012_declined\", \"bpic2012_accepted\", \"bpic2012_cancelled\",\n",
    "            \"bpic2017_refused\", \"bpic2017_accepted\", \"bpic2017_cancelled\",\n",
    "            \"traffic_fines_1\", \"hospital_billing_2\", \"hospital_billing_3\"]\n",
    "\n",
    "bucket_methods = [\"single\", \"prefix\", \"state\", \"cluster\", \"knn\"]\n",
    "cls_encodings = [\"laststate\", \"agg\", \"index\"]\n",
    "cls_methods = [\"rf\", \"xgboost\", \"logit\", \"svm\"]"
   ]
  },
  {
   "cell_type": "code",
   "execution_count": 26,
   "metadata": {
    "collapsed": false
   },
   "outputs": [],
   "source": [
    "for dataset_name in datasets:\n",
    "    for bucket_method in bucket_methods:\n",
    "        for cls_encoding in cls_encodings:\n",
    "            for cls_method in cls_methods:\n",
    "                optimal_params_filename = os.path.join(\"cv_results_revision\", \"optimal_params_%s_%s_%s_%s.pickle\" % (cls_method, dataset_name, bucket_method, cls_encoding))\n",
    "                if not os.path.isfile(optimal_params_filename) or os.path.getsize(optimal_params_filename) <= 0:\n",
    "                    file = 'cv_results_revision/param_optim_all_trials_%s_%s_%s_%s.csv' % (cls_method, dataset_name, bucket_method, cls_encoding)\n",
    "                    if not os.path.isfile(file) or os.path.getsize(file) <= 52:\n",
    "                        print(file)\n",
    "                        continue\n",
    "                    data = pd.read_csv(file, sep=\";\")\n",
    "                    best_params = {val[0]: val[1] for _, val in data[data.score==data[data.param!=\"processing_time\"].score.max()][[\"param\", \"value\"]].iterrows()}\n",
    "                    # write to file\n",
    "                    with open(optimal_params_filename, \"wb\") as fout:\n",
    "                        pickle.dump(best_params, fout)"
   ]
  },
  {
   "cell_type": "code",
   "execution_count": null,
   "metadata": {
    "collapsed": true
   },
   "outputs": [],
   "source": []
  },
  {
   "cell_type": "markdown",
   "metadata": {},
   "source": [
    "# Extract best params for prefix-based bucketing"
   ]
  },
  {
   "cell_type": "code",
   "execution_count": 17,
   "metadata": {
    "collapsed": true
   },
   "outputs": [],
   "source": [
    "datasets = [\"hospital_billing_2\"]\n",
    "\n",
    "bucket_methods = [\"prefix\"]\n",
    "cls_encodings = [\"index\", \"laststate\", \"agg\"]\n",
    "cls_methods = [\"rf\"]"
   ]
  },
  {
   "cell_type": "code",
   "execution_count": 18,
   "metadata": {
    "collapsed": false
   },
   "outputs": [
    {
     "name": "stdout",
     "output_type": "stream",
     "text": [
      "cv_results_revision/param_optim_all_trials_rf_hospital_billing_2_prefix_index.csv\n",
      "Index(['iter', 'dataset', 'cls', 'method', 'nr_events', 'param', 'value',\n",
      "       'score'],\n",
      "      dtype='object')\n",
      "cv_results_revision/param_optim_all_trials_rf_hospital_billing_2_prefix_laststate.csv\n",
      "Index(['iter', 'dataset', 'cls', 'method', 'nr_events', 'param', 'value',\n",
      "       'score'],\n",
      "      dtype='object')\n",
      "cv_results_revision/param_optim_all_trials_rf_hospital_billing_2_prefix_agg.csv\n",
      "Index(['iter', 'dataset', 'cls', 'method', 'nr_events', 'param', 'value',\n",
      "       'score'],\n",
      "      dtype='object')\n"
     ]
    }
   ],
   "source": [
    "for dataset_name in datasets:\n",
    "    for bucket_method in bucket_methods:\n",
    "        for cls_encoding in cls_encodings:\n",
    "            for cls_method in cls_methods:\n",
    "                optimal_params_filename = os.path.join(\"cv_results_revision_prefix\", \"optimal_params_%s_%s_%s_%s.pickle\" % (cls_method, dataset_name, bucket_method, cls_encoding))\n",
    "                file = 'cv_results_revision/param_optim_all_trials_%s_%s_%s_%s.csv' % (cls_method, dataset_name, bucket_method, cls_encoding)\n",
    "                print(file)\n",
    "                if os.path.isfile(file) and os.path.getsize(file) > 0:\n",
    "                    data = pd.read_csv(file, sep=\";\")\n",
    "                    data = data[data.param!=\"processing_time\"]\n",
    "                    best_params = {}\n",
    "                    print(data.columns)\n",
    "                    if \"nr_events\" in list(data.columns):\n",
    "                        for nr_events, group in data.groupby(\"nr_events\"):\n",
    "                            vals = {val[0]: val[1] for _, val in list(group[group.score==group.score.max()].groupby(\"iter\"))[0][1][[\"param\", \"value\"]].iterrows()}\n",
    "                            best_params[nr_events] = vals\n",
    "                        # write to file\n",
    "                        with open(optimal_params_filename, \"wb\") as fout:\n",
    "                            pickle.dump(best_params, fout)"
   ]
  },
  {
   "cell_type": "code",
   "execution_count": null,
   "metadata": {
    "collapsed": true
   },
   "outputs": [],
   "source": []
  }
 ],
 "metadata": {
  "kernelspec": {
   "display_name": "Python 3",
   "language": "python",
   "name": "python3"
  },
  "language_info": {
   "codemirror_mode": {
    "name": "ipython",
    "version": 3
   },
   "file_extension": ".py",
   "mimetype": "text/x-python",
   "name": "python",
   "nbconvert_exporter": "python",
   "pygments_lexer": "ipython3",
   "version": "3.5.2"
  }
 },
 "nbformat": 4,
 "nbformat_minor": 2
}
